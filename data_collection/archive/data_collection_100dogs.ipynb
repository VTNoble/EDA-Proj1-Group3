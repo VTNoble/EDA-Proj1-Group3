{
 "cells": [
  {
   "cell_type": "code",
   "execution_count": null,
   "id": "3e1a4aa7",
   "metadata": {},
   "outputs": [],
   "source": [
    "# Dependencies\n",
    "import requests\n",
    "import json\n",
    "import pandas as pd\n",
    "\n",
    "# Import API keys\n",
    "from api_keys import api_key\n",
    "from api_keys import secret"
   ]
  },
  {
   "cell_type": "code",
   "execution_count": null,
   "id": "c157f67d",
   "metadata": {},
   "outputs": [],
   "source": [
    "# create headers variable for data request\n",
    "headers = {\"Authorization\": f\"{token_type} {access_token}\"}"
   ]
  },
  {
   "cell_type": "code",
   "execution_count": null,
   "id": "20918256",
   "metadata": {},
   "outputs": [],
   "source": [
    "# construct data request with access token\n",
    "url = f'https://api.petfinder.com/v2/animals?type=dog&location=georgia&sort=random&limit=100'\n",
    "\n",
    "response = requests.get(url, headers=headers).json()"
   ]
  },
  {
   "cell_type": "code",
   "execution_count": null,
   "id": "de43e7a6",
   "metadata": {},
   "outputs": [],
   "source": [
    "# display response\n",
    "response"
   ]
  },
  {
   "cell_type": "code",
   "execution_count": null,
   "id": "b57222fb",
   "metadata": {},
   "outputs": [],
   "source": [
    "# assign list of request results to dogs\n",
    "dogs = response['animals']\n",
    "\n",
    "# create empty lists of data to collect\n",
    "pet_id = []\n",
    "org_id = []\n",
    "city = []\n",
    "state = []\n",
    "breed = []\n",
    "age = []\n",
    "gender = []\n",
    "size = []\n",
    "spayed_neutered = []\n",
    "house_trained = []\n",
    "special_needs = []\n",
    "shots_current = []\n",
    "children = []\n",
    "\n",
    "# loop through 'dogs' and collect data\n",
    "for i in range(len(dogs)):\n",
    "    try:\n",
    "        pet_id.append(response['animals'][i]['id'])\n",
    "        breed.append(response['animals'][i]['breeds']['primary'])\n",
    "        age.append(response['animals'][i]['age'])\n",
    "        gender.append(response['animals'][i]['gender'])\n",
    "        size.append(response['animals'][i]['size'])\n",
    "        spayed_neutered.append(response['animals'][i]['attributes']['spayed_neutered'])\n",
    "        house_trained.append(response['animals'][i]['attributes']['house_trained'])\n",
    "        special_needs.append(response['animals'][i]['attributes']['special_needs'])\n",
    "        shots_current.append(response['animals'][i]['attributes']['shots_current'])\n",
    "        children.append(response['animals'][i]['environment']['children'])\n",
    "        city.append(response['animals'][i]['contact']['address']['city'])\n",
    "        state.append(response['animals'][i]['contact']['address']['state'])\n",
    "        org_id.append(response['animals'][i]['organization_id'])\n",
    "        print(f'Dog {i + 1} out of {len(dogs)} was found! Appending data...')\n",
    "    except:\n",
    "        print('Dog not found!')"
   ]
  },
  {
   "cell_type": "code",
   "execution_count": null,
   "id": "5dbe7666",
   "metadata": {},
   "outputs": [],
   "source": [
    "# create dictionary to pass into DataFrame\n",
    "dog_dict = {\n",
    "    'Pet ID': pet_id,\n",
    "    'Organization ID': org_id,\n",
    "    'City': city,\n",
    "    'State': state,\n",
    "    'Breed': breed,\n",
    "    'Age': age,\n",
    "    'Gender': gender,\n",
    "    'Size': size,\n",
    "    'Spayed or Neutered': spayed_neutered,\n",
    "    'House Trained': house_trained,\n",
    "    'Special Needs': special_needs,\n",
    "    'Shots Current': shots_current,\n",
    "    'Good With Children': children\n",
    "}\n",
    "\n",
    "# create DataFrame from dictionary\n",
    "georgia_dogs = pd.DataFrame(dog_dict)\n",
    "georgia_dogs"
   ]
  },
  {
   "cell_type": "code",
   "execution_count": null,
   "id": "ed1f35e9",
   "metadata": {},
   "outputs": [],
   "source": [
    "# Confirm we have 100 unique dogs\n",
    "georgia_dogs['Pet ID'].nunique()"
   ]
  },
  {
   "cell_type": "code",
   "execution_count": null,
   "id": "65ae31b5",
   "metadata": {},
   "outputs": [],
   "source": [
    "# Confirm all dogs are in Georgia\n",
    "georgia_dogs['State'].value_counts()"
   ]
  },
  {
   "cell_type": "code",
   "execution_count": null,
   "id": "ef33ed2c",
   "metadata": {},
   "outputs": [],
   "source": [
    "# Confirm no issues with Organization ID\n",
    "georgia_dogs['Organization ID'].value_counts()"
   ]
  },
  {
   "cell_type": "code",
   "execution_count": null,
   "id": "47b3ec49",
   "metadata": {},
   "outputs": [],
   "source": [
    "# Confirm no issues with City data\n",
    "georgia_dogs['City'].value_counts()"
   ]
  },
  {
   "cell_type": "code",
   "execution_count": null,
   "id": "608f8f8c",
   "metadata": {},
   "outputs": [],
   "source": [
    "# Set all cities to be proper\n",
    "georgia_dogs['City'] = georgia_dogs['City'].str.lower().str.title()\n",
    "georgia_dogs['City'].value_counts()"
   ]
  },
  {
   "cell_type": "code",
   "execution_count": null,
   "id": "0dc40564",
   "metadata": {},
   "outputs": [],
   "source": [
    "# Confirm no issues with breed data\n",
    "georgia_dogs['Breed'].value_counts()"
   ]
  },
  {
   "cell_type": "code",
   "execution_count": null,
   "id": "e1ebeb53",
   "metadata": {},
   "outputs": [],
   "source": [
    "georgia_dogs['Age'].value_counts()"
   ]
  },
  {
   "cell_type": "code",
   "execution_count": null,
   "id": "fe832a39",
   "metadata": {},
   "outputs": [],
   "source": [
    "georgia_dogs['Gender'].value_counts()"
   ]
  },
  {
   "cell_type": "code",
   "execution_count": null,
   "id": "cc938141",
   "metadata": {},
   "outputs": [],
   "source": [
    "georgia_dogs['Size'].value_counts()"
   ]
  },
  {
   "cell_type": "code",
   "execution_count": null,
   "id": "69be9314",
   "metadata": {},
   "outputs": [],
   "source": [
    "georgia_dogs['Spayed or Neutered'].value_counts()"
   ]
  },
  {
   "cell_type": "code",
   "execution_count": null,
   "id": "a1ded76d",
   "metadata": {},
   "outputs": [],
   "source": [
    "georgia_dogs['House Trained'].value_counts()"
   ]
  },
  {
   "cell_type": "code",
   "execution_count": null,
   "id": "c0c55911",
   "metadata": {},
   "outputs": [],
   "source": [
    "georgia_dogs['Special Needs'].value_counts()"
   ]
  },
  {
   "cell_type": "code",
   "execution_count": null,
   "id": "0cfe0065",
   "metadata": {},
   "outputs": [],
   "source": [
    "georgia_dogs['Shots Current'].value_counts()"
   ]
  },
  {
   "cell_type": "code",
   "execution_count": null,
   "id": "01297063",
   "metadata": {},
   "outputs": [],
   "source": [
    "georgia_dogs['Good With Children'].value_counts()"
   ]
  },
  {
   "cell_type": "code",
   "execution_count": null,
   "id": "3247adf4",
   "metadata": {},
   "outputs": [],
   "source": [
    "georgia_dogs.to_csv('data_output/georgia_dogs.csv', index=False)"
   ]
  },
  {
   "cell_type": "code",
   "execution_count": null,
   "id": "8f84bb0e",
   "metadata": {},
   "outputs": [],
   "source": [
    "dogs_df = pd.read_csv('data_output/georgia_dogs.csv')\n",
    "dogs_df"
   ]
  },
  {
   "cell_type": "code",
   "execution_count": null,
   "id": "066174f0",
   "metadata": {},
   "outputs": [],
   "source": []
  }
 ],
 "metadata": {
  "kernelspec": {
   "display_name": "Python 3 (ipykernel)",
   "language": "python",
   "name": "python3"
  },
  "language_info": {
   "codemirror_mode": {
    "name": "ipython",
    "version": 3
   },
   "file_extension": ".py",
   "mimetype": "text/x-python",
   "name": "python",
   "nbconvert_exporter": "python",
   "pygments_lexer": "ipython3",
   "version": "3.7.11"
  }
 },
 "nbformat": 4,
 "nbformat_minor": 5
}
